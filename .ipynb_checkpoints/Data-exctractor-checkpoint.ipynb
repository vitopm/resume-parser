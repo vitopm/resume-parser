{
 "cells": [
  {
   "cell_type": "markdown",
   "id": "b1b5a6d4",
   "metadata": {},
   "source": [
    "Referensi\n",
    "\n",
    "https://github.com/OmkarPathak/pyresparser\n",
    "\n",
    "https://github.com/explosion/spaCy/issues/4577\n",
    "\n",
    "# Requirement\n",
    "\n",
    "install secara berurutan\n",
    "\n",
    "## pyresparser\n",
    "    pip install pyresparser\n",
    "\n",
    "## spaCy\n",
    "    pip install spacy==2.3.5\n",
    "    \n",
    "### en core web sm\n",
    "    \n",
    "    python -m spacy download en_core_web_sm\n",
    "    \n",
    "    OR\n",
    "    \n",
    "    pip3 install https://github.com/explosion/spacy-models/releases/download/en_core_web_sm-2.2.0/en_core_web_sm-2.2.0.tar.gz\n",
    "    \n",
    "\n",
    "    \n",
    "\n",
    "## nltk\n",
    "    python -m nltk.downloader words\n",
    "\n",
    "    python -m nltk.downloader stopwords"
   ]
  },
  {
   "cell_type": "code",
   "execution_count": 1,
   "id": "eaa6a00c",
   "metadata": {},
   "outputs": [
    {
     "name": "stderr",
     "output_type": "stream",
     "text": [
      "C:\\Users\\vito pm\\anaconda3\\envs\\resumeProject\\lib\\site-packages\\spacy\\util.py:275: UserWarning: [W031] Model 'en_training' (0.0.0) requires spaCy v2.1 and is incompatible with the current spaCy version (2.3.7). This may lead to unexpected results or runtime errors. To resolve this, download a newer compatible model or retrain your custom model with the current spaCy version. For more details and available updates, run: python -m spacy validate\n",
      "  warnings.warn(warn_msg)\n"
     ]
    }
   ],
   "source": [
    "from pyresparser import ResumeParser\n",
    "data = ResumeParser('CV.pdf').get_extracted_data()"
   ]
  },
  {
   "cell_type": "code",
   "execution_count": 2,
   "id": "36cc47b0",
   "metadata": {},
   "outputs": [
    {
     "data": {
      "text/plain": [
       "{'name': 'Kalash Jindal',\n",
       " 'email': 'jindalkalash298@gmail.com',\n",
       " 'mobile_number': '7839453651',\n",
       " 'skills': ['Python',\n",
       "  'Github',\n",
       "  'Design',\n",
       "  'C',\n",
       "  'Testing',\n",
       "  'Coding',\n",
       "  'Prototype',\n",
       "  'Word',\n",
       "  'Pyqt',\n",
       "  'Opencv',\n",
       "  'Programming',\n",
       "  'Keras',\n",
       "  'Modeling',\n",
       "  'Engineering',\n",
       "  'Computer science',\n",
       "  'Analysis',\n",
       "  'Training',\n",
       "  'Chemicals',\n",
       "  'Css',\n",
       "  'Sci',\n",
       "  'Database',\n",
       "  'C++',\n",
       "  'Statistics',\n",
       "  'Algorithms',\n",
       "  'Html',\n",
       "  'Ui',\n",
       "  'Api'],\n",
       " 'college_name': None,\n",
       " 'degree': None,\n",
       " 'designation': None,\n",
       " 'experience': None,\n",
       " 'company_names': None,\n",
       " 'no_of_pages': 3,\n",
       " 'total_experience': 0}"
      ]
     },
     "execution_count": 2,
     "metadata": {},
     "output_type": "execute_result"
    }
   ],
   "source": [
    "data"
   ]
  },
  {
   "cell_type": "code",
   "execution_count": 3,
   "id": "b6eb0aa2",
   "metadata": {},
   "outputs": [
    {
     "name": "stderr",
     "output_type": "stream",
     "text": [
      "C:\\Users\\vito pm\\anaconda3\\envs\\resumeProject\\lib\\site-packages\\spacy\\util.py:275: UserWarning: [W031] Model 'en_training' (0.0.0) requires spaCy v2.1 and is incompatible with the current spaCy version (2.3.7). This may lead to unexpected results or runtime errors. To resolve this, download a newer compatible model or retrain your custom model with the current spaCy version. For more details and available updates, run: python -m spacy validate\n",
      "  warnings.warn(warn_msg)\n"
     ]
    },
    {
     "data": {
      "text/plain": [
       "{'name': 'Alice Clark',\n",
       " 'email': None,\n",
       " 'mobile_number': None,\n",
       " 'skills': ['Lifecycle',\n",
       "  'Website',\n",
       "  'Design',\n",
       "  'Writing',\n",
       "  'Email',\n",
       "  'Sql',\n",
       "  'Analytics',\n",
       "  'Communication',\n",
       "  'Analytical',\n",
       "  'Warehouse',\n",
       "  'Business intelligence',\n",
       "  'Data analysis',\n",
       "  'Analysis',\n",
       "  'Technical',\n",
       "  'Windows',\n",
       "  'Ai',\n",
       "  'Cloud',\n",
       "  'Database'],\n",
       " 'college_name': None,\n",
       " 'degree': None,\n",
       " 'designation': ['Software Engineer'],\n",
       " 'experience': ['Software Engineer',\n",
       "  'Microsoft – Bangalore, Karnataka',\n",
       "  'January 2000 to Present',\n",
       "  '1. Microsoft Rewards Live dashboards:',\n",
       "  'Description: - Microsoft rewards is loyalty program that rewards Users for browsing and shopping',\n",
       "  'online. Microsoft Rewards members can earn points when searching with Bing, browsing with',\n",
       "  'Microsoft Edge and making purchases at the Xbox Store, the Windows Store and the Microsoft',\n",
       "  'Store. Plus, user can pick up bonus points for taking daily quizzes and tours on the Microsoft',\n",
       "  'rewards website. Rewards live dashboards gives a live picture of usage world-wide and by',\n",
       "  'markets like US, Canada, Australia, new user registration count, top/bottom performing rewards',\n",
       "  'offers, orders stats and weekly trends of user activities, orders and new user registrations. the',\n",
       "  'PBI tiles gets refreshed in different frequencies starting from 5 seconds to 30 minutes.',\n",
       "  'Technology/Tools used'],\n",
       " 'company_names': ['Microsoft'],\n",
       " 'no_of_pages': 2,\n",
       " 'total_experience': 22.33}"
      ]
     },
     "execution_count": 3,
     "metadata": {},
     "output_type": "execute_result"
    }
   ],
   "source": [
    "data = ResumeParser('Alice Clark CV.pdf').get_extracted_data()\n",
    "data"
   ]
  },
  {
   "cell_type": "code",
   "execution_count": 4,
   "id": "e69cc7df",
   "metadata": {
    "scrolled": false
   },
   "outputs": [
    {
     "name": "stderr",
     "output_type": "stream",
     "text": [
      "C:\\Users\\vito pm\\anaconda3\\envs\\resumeProject\\lib\\site-packages\\spacy\\util.py:275: UserWarning: [W031] Model 'en_training' (0.0.0) requires spaCy v2.1 and is incompatible with the current spaCy version (2.3.7). This may lead to unexpected results or runtime errors. To resolve this, download a newer compatible model or retrain your custom model with the current spaCy version. For more details and available updates, run: python -m spacy validate\n",
      "  warnings.warn(warn_msg)\n"
     ]
    },
    {
     "data": {
      "text/plain": [
       "{'name': 'Michael Smith',\n",
       " 'email': None,\n",
       " 'mobile_number': None,\n",
       " 'skills': ['Design',\n",
       "  'C',\n",
       "  'Sql',\n",
       "  'Reports',\n",
       "  'Metrics',\n",
       "  'Windows',\n",
       "  'Process',\n",
       "  'Cloud',\n",
       "  'Administration',\n",
       "  'Data analysis',\n",
       "  'Data analytics',\n",
       "  'Lifecycle',\n",
       "  'Modeling',\n",
       "  'Transactions',\n",
       "  'Analysis',\n",
       "  'Sql server',\n",
       "  '.net',\n",
       "  'Etl',\n",
       "  'Database',\n",
       "  'Writing',\n",
       "  'Email',\n",
       "  'Schedule',\n",
       "  'Access',\n",
       "  'Warehouse',\n",
       "  'Sap',\n",
       "  'Reporting',\n",
       "  'Routing',\n",
       "  'Website',\n",
       "  'Analytics',\n",
       "  'Communication',\n",
       "  'Js',\n",
       "  'Analytical',\n",
       "  'Api',\n",
       "  'Technical',\n",
       "  'Big data'],\n",
       " 'college_name': None,\n",
       " 'degree': None,\n",
       " 'designation': None,\n",
       " 'experience': ['writing andoptimizing SQL code and Stored Procedures, creating functions, views,',\n",
       "  'triggers and indexes.',\n",
       "  'Cloud  platform:  Worked  on  Microsoft  Azure  cloud  services  like  Document  DB,  SQL',\n",
       "  'Azure, StreamAnalytics, Event hub,  Power BI, Web Job, Web App, Power BI, Azure',\n",
       "  'data lake analytics(U-SQL).',\n",
       "  'Big Data: Worked Azure data lake store/analytics for big data processing and Azure',\n",
       "  'data factoryto schedule U-SQL jobs. Designed and developed end to end  big data',\n",
       "  'solution for data insights.',\n",
       "  'Willing to relocate: Anywhere',\n",
       "  'WORK EXPERIENCESoftware Engineer',\n",
       "  'Microsoft - Manchester, UK.',\n",
       "  'December 2015 to Present',\n",
       "  '1. Microsoft Rewards Live dashboards:',\n",
       "  'Description:  -  Microsoft  rewards  is  loyalty  program  that  rewards  Users  for',\n",
       "  'browsing  and  shopping  online.  Microsoft  Rewards  members  can  earn  points  when',\n",
       "  'searching  with  Bing,  browsing  with  Microsoft  Edge  and  making  purchases  at  the',\n",
       "  'Xbox  Store,  the  Windows  Store  and  the  Microsoft  Store.  Plus,  user  can  pick  up',\n",
       "  'bonus points for taking daily quizzes and tours on the Microsoft rewards website.',\n",
       "  'Rewards live dashboards gives a live picture of usage world-wide and by markets',\n",
       "  'like  US,  Canada,  Australia,  new  user  registration  count,  top/bottom  performing',\n",
       "  'rewards offers, orders stats and weekly trends of user activities, orders and new',\n",
       "  'user registrations. the PBI tiles gets refreshed in different frequencies starting',\n",
       "  'from 5 seconds to 30 minutes.',\n",
       "  'Technology/Tools used',\n",
       "  'Event hub, stream analytics and Power BI.',\n",
       "  'Responsibilities',\n",
       "  'Created stream analytics jobs to process event hub data',\n",
       "  'Created Power BI live dashboard to show live usage traffic, weekly trends, cards,',\n",
       "  'charts to showtop/bottom 10 offers and usage metrics.',\n",
       "  '2. Microsoft Rewards Data Insights:',\n",
       "  'Description:  -  Microsoft  rewards  is  loyalty  program  that  rewards  Users  for',\n",
       "  'browsing  and  shopping  online.  Microsoft  Rewards  members  can  earn  points  when',\n",
       "  'searching  with  Bing,  browsing  with  Microsoft  Edge  and  making  purchases  at  the',\n",
       "  'Xbox  Store,  the  Windows  Store  and  the  Microsoft  Store.  Plus,  user  can  pick  up',\n",
       "  'bonus points for taking daily quizzes and tours on the Microsoft rewards website.',\n",
       "  'Rewards  data  insights  is  data  analytics  and  reporting  platform,  processes  20',\n",
       "  'million users daily activities and redemption across different markets like US,',\n",
       "  'Canada, Australia.',\n",
       "  'Technology/Tools used',\n",
       "  'Cosmos (Microsoft big-data platform), c#, X-flow job monitoring, Power BI.',\n",
       "  'Responsibilities',\n",
       "  'Created big data scripts in cosmos',\n",
       "  'C# data extractors, processors and reducers for data transformation',\n",
       "  'Power BI dashboards',\n",
       "  '3. End to end tracking Tool:',\n",
       "  'Description:  -  This  is  real-time  Tracking  tool  to  track  different  business',\n",
       "  'transactions  like  order,  order  response,  functional  acknowledgement,  invoice',\n",
       "  'flowing inside ICOE. It gives flexibility to customers to track their transactions',\n",
       "  'and appropriate error information in-case of any failure. Based on resource based',\n",
       "  'access control the tool gives flexibility to end user to perform different actions',\n",
       "  'like  view  transactions,  search  based  on  different  filter  criteria  and  view  and',\n",
       "  'download  actual  message  payload.  End  to  end  tracking  tool  stitches  all  the',\n",
       "  'business transaction like order to cash flow and connects different hops inside',\n",
       "  'ICOE like gateway, routing server, Processing server. It also connects different',\n",
       "  'systems like ICOE, partner end point and SAP.',\n",
       "  'Technology/Tools used',\n",
       "  'Azure Document db, Azure web job and Web APP, RBAC, Angular JS.',\n",
       "  'Responsibilities',\n",
       "  'Document dB stored procedures.',\n",
       "  'Web job to process event hub data and populate Document db• Web App API.',\n",
       "  'Stream analytics job to transform data',\n",
       "  'Power BI reports',\n",
       "  '4. Biztrack Tracking Tool:',\n",
       "  'Description:  -  This  is  real-time  Tracking  tool  to  track  different  business',\n",
       "  'transactions  like  order,  order  response,  functional  acknowledgement,  invoice',\n",
       "  'flowing inside ICOE. It gives flexibility to customers to track their transactions',\n",
       "  'and appropriate error information in-case of any failure. Based on resource based',\n",
       "  'access control the tool gives flexibility to end user to perform different actions',\n",
       "  'like  view  transactions,  search  based  on  different  filter  criteria  and  view  and',\n",
       "  'download actual message payload.',\n",
       "  'Technology/Tools used',\n",
       "  'SQL server 2014, SSIS, .net API, Angular JS.',\n",
       "  'Responsibilities',\n",
       "  'ETL solution to transform business transactions data stored in Biztalk tables.',\n",
       "  'SQL azure tables, stored procedures, User defined functions.',\n",
       "  'Performance tuning.',\n",
       "  'Web API enhancements.'],\n",
       " 'company_names': ['Microsoft'],\n",
       " 'no_of_pages': 3,\n",
       " 'total_experience': 6.42}"
      ]
     },
     "execution_count": 4,
     "metadata": {},
     "output_type": "execute_result"
    }
   ],
   "source": [
    "data = ResumeParser('Smith Resume.pdf').get_extracted_data()\n",
    "data"
   ]
  },
  {
   "cell_type": "code",
   "execution_count": null,
   "id": "7eed278c",
   "metadata": {},
   "outputs": [],
   "source": []
  }
 ],
 "metadata": {
  "kernelspec": {
   "display_name": "Python 3 (ipykernel)",
   "language": "python",
   "name": "python3"
  },
  "language_info": {
   "codemirror_mode": {
    "name": "ipython",
    "version": 3
   },
   "file_extension": ".py",
   "mimetype": "text/x-python",
   "name": "python",
   "nbconvert_exporter": "python",
   "pygments_lexer": "ipython3",
   "version": "3.9.12"
  }
 },
 "nbformat": 4,
 "nbformat_minor": 5
}
